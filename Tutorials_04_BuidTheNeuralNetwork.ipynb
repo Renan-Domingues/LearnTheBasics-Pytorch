{
  "nbformat": 4,
  "nbformat_minor": 0,
  "metadata": {
    "colab": {
      "provenance": [],
      "gpuType": "T4",
      "authorship_tag": "ABX9TyO7gx+2SkGMwrdpojMD4FvR",
      "include_colab_link": true
    },
    "kernelspec": {
      "name": "python3",
      "display_name": "Python 3"
    },
    "language_info": {
      "name": "python"
    },
    "accelerator": "GPU"
  },
  "cells": [
    {
      "cell_type": "markdown",
      "metadata": {
        "id": "view-in-github",
        "colab_type": "text"
      },
      "source": [
        "<a href=\"https://colab.research.google.com/github/Renan-Domingues/LearnTheBasics-Pytorch/blob/main/Tutorials_04_BuidTheNeuralNetwork.ipynb\" target=\"_parent\"><img src=\"https://colab.research.google.com/assets/colab-badge.svg\" alt=\"Open In Colab\"/></a>"
      ]
    },
    {
      "cell_type": "markdown",
      "source": [
        "# Neural Network\n",
        "Neural Network performs operations in data.\n",
        "The torch.nn provides all the buiding blocks needed to build my own neural network.\n",
        "Every module in Pytorch subclasses the nn.Module. A neural network is a module itself that consists in other modules (layers)"
      ],
      "metadata": {
        "id": "nRNXUuIPZKy9"
      }
    },
    {
      "cell_type": "code",
      "source": [
        "import os\n",
        "import torch\n",
        "from torch import nn\n",
        "from torch.utils.data import DataLoader\n",
        "from torchvision import datasets, transforms"
      ],
      "metadata": {
        "id": "p9pBacvVbICQ"
      },
      "execution_count": null,
      "outputs": []
    },
    {
      "cell_type": "code",
      "source": [
        "# Get device for training\n",
        "\n",
        "device = (\n",
        "    \"cuda\"\n",
        "    if torch.cuda.is_available()\n",
        "    else \"cpu\")\n",
        "\n",
        "print(f\"device: {device}\")"
      ],
      "metadata": {
        "colab": {
          "base_uri": "https://localhost:8080/"
        },
        "id": "Zhyu4gatbxRW",
        "outputId": "f7fccbe0-9a16-424f-9352-f05141345191"
      },
      "execution_count": null,
      "outputs": [
        {
          "output_type": "stream",
          "name": "stdout",
          "text": [
            "device: cuda\n"
          ]
        }
      ]
    },
    {
      "cell_type": "markdown",
      "source": [
        "### Define the Class\n",
        "\n",
        "We define the Neural network class by subclassing nn.Module, and initialize the layers in __init__.\n",
        "Every nn.Module  subclass implements the operations on input data in the forward method."
      ],
      "metadata": {
        "id": "LtWhV6mncUpL"
      }
    },
    {
      "cell_type": "code",
      "source": [
        "class NeuralNetwork(nn.Module):\n",
        "  def __init__(self):\n",
        "    super().__init__()\n",
        "    self.flatten = nn.Flatten()\n",
        "    self.linear_relu_stack = nn.Sequential(\n",
        "        nn.Linear(28*28, 512),\n",
        "        nn.ReLU(),\n",
        "        nn.Linear(512, 512),\n",
        "        nn.ReLU(),\n",
        "        nn.Linear(512, 10),\n",
        "    )\n",
        "\n",
        "  def forward(self, x):\n",
        "    x = self.flatten(x)\n",
        "    logits = self.linear_relu_stack(x)\n",
        "    return logits\n",
        "\n",
        "model = NeuralNetwork().to(device)\n",
        "print(model)"
      ],
      "metadata": {
        "colab": {
          "base_uri": "https://localhost:8080/"
        },
        "id": "5amJQSWDc3lw",
        "outputId": "753ce236-5bca-4b9e-dd0d-241d221c5769"
      },
      "execution_count": null,
      "outputs": [
        {
          "output_type": "stream",
          "name": "stdout",
          "text": [
            "NeuralNetwork(\n",
            "  (flatten): Flatten(start_dim=1, end_dim=-1)\n",
            "  (linear_relu_stack): Sequential(\n",
            "    (0): Linear(in_features=784, out_features=512, bias=True)\n",
            "    (1): ReLU()\n",
            "    (2): Linear(in_features=512, out_features=512, bias=True)\n",
            "    (3): ReLU()\n",
            "    (4): Linear(in_features=512, out_features=10, bias=True)\n",
            "  )\n",
            ")\n"
          ]
        }
      ]
    },
    {
      "cell_type": "markdown",
      "source": [
        "To use the model, we pass the input data.\n",
        "This executes the model's forward (along with some background operations)\n"
      ],
      "metadata": {
        "id": "thnKpzYdevOn"
      }
    },
    {
      "cell_type": "markdown",
      "source": [
        "Calling the model on the input returns a 2-dimensional tensor with dim=0 corresponding to each output of 10 raw predicted values for each class, and dim=1 correponding to the individual values of each output.\n",
        "\n",
        "We get the prediction probabilities by passing it through an instance of the nn.softmax module."
      ],
      "metadata": {
        "id": "Pckhra4QfrO-"
      }
    },
    {
      "cell_type": "code",
      "source": [
        "X = torch.rand(1, 28, 28, device=device)\n",
        "\n",
        "logits = model(X)\n",
        "pred_probab = nn.Softmax(dim=1)(logits)\n",
        "y_pred = pred_probab.argmax(1)\n",
        "print(f\"Predicted class: {y_pred}\")"
      ],
      "metadata": {
        "colab": {
          "base_uri": "https://localhost:8080/"
        },
        "id": "00oA-LxUgpDj",
        "outputId": "9f5f7357-577d-4df0-aa37-c6f30b626b7e"
      },
      "execution_count": null,
      "outputs": [
        {
          "output_type": "stream",
          "name": "stdout",
          "text": [
            "Predicted class: tensor([8], device='cuda:0')\n"
          ]
        }
      ]
    },
    {
      "cell_type": "markdown",
      "source": [
        "### Model Layer\n",
        "Let's break down the layers in the FashionMNIST model\n",
        "it will take a sample minibatch of 3 images (size 28*28)"
      ],
      "metadata": {
        "id": "maIAdxVfhnUA"
      }
    },
    {
      "cell_type": "code",
      "source": [
        "input_image = torch.rand(3,28,28)\n",
        "print(input_image.size())"
      ],
      "metadata": {
        "colab": {
          "base_uri": "https://localhost:8080/"
        },
        "id": "-5SsiyeRh89p",
        "outputId": "0c16601b-18fe-40c0-a9f7-d786d13560c1"
      },
      "execution_count": null,
      "outputs": [
        {
          "output_type": "stream",
          "name": "stdout",
          "text": [
            "torch.Size([3, 28, 28])\n"
          ]
        }
      ]
    },
    {
      "cell_type": "markdown",
      "source": [
        "### nn.Flatten\n",
        "\n",
        "we initialize the nn.flatten layer to convert each 2D 28*28 image into a contiguous array of 784 pixel values\n",
        "the minibatch dimension (at dim=0) is mantained.\n",
        "\n",
        "nn.Flaten = https://pytorch.org/docs/stable/generated/torch.nn.Flatten.html"
      ],
      "metadata": {
        "id": "ZxKm6ivJiPyx"
      }
    },
    {
      "cell_type": "code",
      "source": [
        "flatten = nn.Flatten()\n",
        "flat_image  = flatten(input_image)\n",
        "print(flat_image.size())"
      ],
      "metadata": {
        "colab": {
          "base_uri": "https://localhost:8080/"
        },
        "id": "kDI9XPEMjWgl",
        "outputId": "0a793e93-cf36-4f28-8f79-0d4c16a186fb"
      },
      "execution_count": null,
      "outputs": [
        {
          "output_type": "stream",
          "name": "stdout",
          "text": [
            "torch.Size([3, 784])\n"
          ]
        }
      ]
    },
    {
      "cell_type": "markdown",
      "source": [
        "### nn.Linear\n",
        "\n",
        "the linear layer is a module that aplies a linear transformation on the input using its stored weights and biases.\n",
        "\n",
        "Linear = https://pytorch.org/docs/stable/generated/torch.nn.Linear.html"
      ],
      "metadata": {
        "id": "Ol1Pgt3Yj4Or"
      }
    },
    {
      "cell_type": "code",
      "source": [
        "layer1 = nn.Linear(in_features=28*28, out_features=20)\n",
        "hidden1 = layer1(flat_image)\n",
        "print(hidden1.size())\n"
      ],
      "metadata": {
        "colab": {
          "base_uri": "https://localhost:8080/"
        },
        "id": "F2NCB1cFk0Tq",
        "outputId": "55f00147-0944-470b-f5a5-90f358994c02"
      },
      "execution_count": null,
      "outputs": [
        {
          "output_type": "stream",
          "name": "stdout",
          "text": [
            "torch.Size([3, 20])\n"
          ]
        }
      ]
    },
    {
      "cell_type": "markdown",
      "source": [
        "### nn.ReLU\n",
        "\n",
        "non-linear activations are what create complex mappings between the model's inputs and outputs. They are applied after linear transformations to introduce nonlinearity\n",
        "\n",
        "in this model we use nn.ReLU, but there are other activations\n",
        "\n",
        "nn.ReLU = https://pytorch.org/docs/stable/generated/torch.nn.ReLU.html"
      ],
      "metadata": {
        "id": "Us5VScq7oP4g"
      }
    },
    {
      "cell_type": "code",
      "source": [
        "print(f\"Before ReLU: {hidden1}\\n\\n\")\n",
        "hidden1 = nn.ReLU()(hidden1)\n",
        "print(f\"After ReLU: {hidden1}\")"
      ],
      "metadata": {
        "colab": {
          "base_uri": "https://localhost:8080/"
        },
        "id": "73Bd-rVGpHX8",
        "outputId": "f2d1ca36-ba5c-4179-8704-8e7ce4216b4f"
      },
      "execution_count": null,
      "outputs": [
        {
          "output_type": "stream",
          "name": "stdout",
          "text": [
            "Before ReLU: tensor([[ 0.8305,  0.3949,  0.2447,  0.9125,  0.2560,  0.1933,  0.2400, -0.2551,\n",
            "         -0.1057,  0.1227, -0.4566,  0.1739,  0.3776, -0.4121,  0.0368,  0.4809,\n",
            "         -0.5083, -0.0797,  0.4212,  0.4060],\n",
            "        [ 0.4712,  0.0064,  0.2517,  0.4224, -0.2120, -0.1800,  0.3156, -0.2502,\n",
            "         -0.1160, -0.1943, -0.1467, -0.2206,  0.4093, -0.6856, -0.2938,  0.4390,\n",
            "         -0.5324, -0.1353,  0.2223,  0.0800],\n",
            "        [ 0.4958, -0.0165,  0.2080,  0.7084, -0.0933,  0.0215,  0.3987, -0.1231,\n",
            "          0.1478,  0.1490, -0.0511,  0.2866,  0.2841, -0.5656, -0.1398,  0.3751,\n",
            "         -0.3462, -0.0108,  0.4068,  0.0234]], grad_fn=<AddmmBackward0>)\n",
            "\n",
            "\n",
            "After ReLU: tensor([[0.8305, 0.3949, 0.2447, 0.9125, 0.2560, 0.1933, 0.2400, 0.0000, 0.0000,\n",
            "         0.1227, 0.0000, 0.1739, 0.3776, 0.0000, 0.0368, 0.4809, 0.0000, 0.0000,\n",
            "         0.4212, 0.4060],\n",
            "        [0.4712, 0.0064, 0.2517, 0.4224, 0.0000, 0.0000, 0.3156, 0.0000, 0.0000,\n",
            "         0.0000, 0.0000, 0.0000, 0.4093, 0.0000, 0.0000, 0.4390, 0.0000, 0.0000,\n",
            "         0.2223, 0.0800],\n",
            "        [0.4958, 0.0000, 0.2080, 0.7084, 0.0000, 0.0215, 0.3987, 0.0000, 0.1478,\n",
            "         0.1490, 0.0000, 0.2866, 0.2841, 0.0000, 0.0000, 0.3751, 0.0000, 0.0000,\n",
            "         0.4068, 0.0234]], grad_fn=<ReluBackward0>)\n"
          ]
        }
      ]
    },
    {
      "cell_type": "markdown",
      "source": [
        "### nn.Sequential\n",
        "The data passed trough all the modules in the same order as defined.\n",
        "Is an ordered container of modules\n",
        "\n",
        "Sequential = https://pytorch.org/docs/stable/generated/torch.nn.Sequential.html"
      ],
      "metadata": {
        "id": "Wy54HQxAqJGB"
      }
    },
    {
      "cell_type": "code",
      "source": [
        "seq_modules = nn.Sequential(\n",
        "    flatten,\n",
        "    layer1,\n",
        "    nn.ReLU(),\n",
        "    nn.Linear(20, 10)\n",
        ")\n",
        "input_image = torch.rand(3,28,28)\n",
        "logits = seq_modules(input_image)"
      ],
      "metadata": {
        "id": "Ag-5M0RTqkiM"
      },
      "execution_count": null,
      "outputs": []
    },
    {
      "cell_type": "markdown",
      "source": [
        "### nn.Softmax\n",
        "\n",
        "The last linear layer return logits - raw values in [-infty,infty]- witch are passed to the nn.Softmax module.\n",
        "The logits are scaled to values [0,1]crepresenting the model's predicted probabilities for each class.\n",
        "dim oarameter indicates the dimension aling which values must sum to 1."
      ],
      "metadata": {
        "id": "OihC5-pkrDCO"
      }
    },
    {
      "cell_type": "code",
      "source": [
        "softmax = nn.Softmax(dim=1)\n",
        "pred_probab = softmax(logits)"
      ],
      "metadata": {
        "id": "fFiVwvwKsApu"
      },
      "execution_count": null,
      "outputs": []
    },
    {
      "cell_type": "markdown",
      "source": [
        "### Model Parameters\n",
        "Many layers inside a neural network have associated weights and biases that are optimized during training.\n",
        "nn.Module makes all parameters accessible using your model's parameters() or named_parameters() methods.\n",
        "\n",
        "in this exemple, we iterate over each parameter, and print its size and a preview of his values"
      ],
      "metadata": {
        "id": "IzByAmhQsQ0I"
      }
    },
    {
      "cell_type": "code",
      "source": [
        "print(f\"Model structure: {model}\\n\\n\")\n",
        "\n",
        "for name, param in model.named_parameters():\n",
        "  print(f\"Layer: {name} | Size: {param.size()} | Values: {param[:2]}\\n\")"
      ],
      "metadata": {
        "colab": {
          "base_uri": "https://localhost:8080/"
        },
        "id": "iM5vW2z9tOUQ",
        "outputId": "27cc419b-305f-4e4a-8593-34fe26d569fc"
      },
      "execution_count": null,
      "outputs": [
        {
          "output_type": "stream",
          "name": "stdout",
          "text": [
            "Model structure: NeuralNetwork(\n",
            "  (flatten): Flatten(start_dim=1, end_dim=-1)\n",
            "  (linear_relu_stack): Sequential(\n",
            "    (0): Linear(in_features=784, out_features=512, bias=True)\n",
            "    (1): ReLU()\n",
            "    (2): Linear(in_features=512, out_features=512, bias=True)\n",
            "    (3): ReLU()\n",
            "    (4): Linear(in_features=512, out_features=10, bias=True)\n",
            "  )\n",
            ")\n",
            "\n",
            "\n",
            "Layer: linear_relu_stack.0.weight | Size: torch.Size([512, 784]) | Values: tensor([[-0.0017,  0.0035, -0.0144,  ...,  0.0094,  0.0340, -0.0293],\n",
            "        [ 0.0073,  0.0325, -0.0280,  ...,  0.0123,  0.0250, -0.0312]],\n",
            "       device='cuda:0', grad_fn=<SliceBackward0>)\n",
            "\n",
            "Layer: linear_relu_stack.0.bias | Size: torch.Size([512]) | Values: tensor([ 0.0100, -0.0160], device='cuda:0', grad_fn=<SliceBackward0>)\n",
            "\n",
            "Layer: linear_relu_stack.2.weight | Size: torch.Size([512, 512]) | Values: tensor([[ 0.0214,  0.0243,  0.0407,  ...,  0.0210,  0.0338, -0.0249],\n",
            "        [-0.0321,  0.0107, -0.0345,  ..., -0.0398, -0.0239,  0.0223]],\n",
            "       device='cuda:0', grad_fn=<SliceBackward0>)\n",
            "\n",
            "Layer: linear_relu_stack.2.bias | Size: torch.Size([512]) | Values: tensor([0.0368, 0.0331], device='cuda:0', grad_fn=<SliceBackward0>)\n",
            "\n",
            "Layer: linear_relu_stack.4.weight | Size: torch.Size([10, 512]) | Values: tensor([[ 0.0441,  0.0183, -0.0019,  ...,  0.0280, -0.0070, -0.0378],\n",
            "        [ 0.0030,  0.0115, -0.0254,  ...,  0.0219,  0.0371,  0.0060]],\n",
            "       device='cuda:0', grad_fn=<SliceBackward0>)\n",
            "\n",
            "Layer: linear_relu_stack.4.bias | Size: torch.Size([10]) | Values: tensor([-0.0298, -0.0177], device='cuda:0', grad_fn=<SliceBackward0>)\n",
            "\n"
          ]
        }
      ]
    }
  ]
}