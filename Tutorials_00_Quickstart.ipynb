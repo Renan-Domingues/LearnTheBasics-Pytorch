{
  "nbformat": 4,
  "nbformat_minor": 0,
  "metadata": {
    "colab": {
      "provenance": [],
      "gpuType": "T4",
      "authorship_tag": "ABX9TyO5F305o6i+hgF/bMYauf8b",
      "include_colab_link": true
    },
    "kernelspec": {
      "name": "python3",
      "display_name": "Python 3"
    },
    "language_info": {
      "name": "python"
    },
    "accelerator": "GPU"
  },
  "cells": [
    {
      "cell_type": "markdown",
      "metadata": {
        "id": "view-in-github",
        "colab_type": "text"
      },
      "source": [
        "<a href=\"https://colab.research.google.com/github/Renan-Domingues/LearnTheBasics-Pytorch/blob/main/Tutorials_00_Quickstart.ipynb\" target=\"_parent\"><img src=\"https://colab.research.google.com/assets/colab-badge.svg\" alt=\"Open In Colab\"/></a>"
      ]
    },
    {
      "cell_type": "code",
      "execution_count": null,
      "metadata": {
        "id": "WGGJPB87BKOq"
      },
      "outputs": [],
      "source": [
        "import torch\n",
        "from torch import nn\n",
        "from torch.utils.data import DataLoader\n",
        "from torchvision import datasets\n",
        "from torchvision.transforms import ToTensor\n",
        "\n",
        "# pytorch offers libraries such as TorchText, TorchVision and TorchAudio, all of whitch includes datasets.\n",
        "#For this tutorial we will be using a TorchVision dataset.\n"
      ]
    },
    {
      "cell_type": "markdown",
      "source": [
        "The Torchvision.datasets modules contain Dataset objects for many real-word vision data.Full list: https://pytorch.org/vision/stable/datasets.html\n",
        "In this tutorial , we use the FashionMNIST dataset: https://pytorch.org/vision/stable/generated/torchvision.datasets.FashionMNIST.html#torchvision.datasets.FashionMNIST"
      ],
      "metadata": {
        "id": "_n3cz0NrE_Oz"
      }
    },
    {
      "cell_type": "code",
      "source": [
        "# Download training data from open datasets\n",
        "\n",
        "training_data = datasets.FashionMNIST(\n",
        "    root=\"data\",\n",
        "    train=True,\n",
        "    download=True,\n",
        "    transform=ToTensor(),\n",
        ")\n",
        "\n",
        "# Download test data from open dataset\n",
        "\n",
        "test_data = datasets.FashionMNIST(\n",
        "    root=\"data\",\n",
        "    train=False,\n",
        "    download=True,\n",
        "    transform=ToTensor(),\n",
        ")\n"
      ],
      "metadata": {
        "colab": {
          "base_uri": "https://localhost:8080/"
        },
        "id": "tnCHib-ODQ5g",
        "outputId": "b2658629-15ff-407f-ffda-025a5a931633"
      },
      "execution_count": null,
      "outputs": [
        {
          "output_type": "stream",
          "name": "stdout",
          "text": [
            "Downloading http://fashion-mnist.s3-website.eu-central-1.amazonaws.com/train-images-idx3-ubyte.gz\n",
            "Downloading http://fashion-mnist.s3-website.eu-central-1.amazonaws.com/train-images-idx3-ubyte.gz to data/FashionMNIST/raw/train-images-idx3-ubyte.gz\n"
          ]
        },
        {
          "output_type": "stream",
          "name": "stderr",
          "text": [
            "100%|██████████| 26421880/26421880 [00:03<00:00, 8311449.76it/s] \n"
          ]
        },
        {
          "output_type": "stream",
          "name": "stdout",
          "text": [
            "Extracting data/FashionMNIST/raw/train-images-idx3-ubyte.gz to data/FashionMNIST/raw\n",
            "\n",
            "Downloading http://fashion-mnist.s3-website.eu-central-1.amazonaws.com/train-labels-idx1-ubyte.gz\n",
            "Downloading http://fashion-mnist.s3-website.eu-central-1.amazonaws.com/train-labels-idx1-ubyte.gz to data/FashionMNIST/raw/train-labels-idx1-ubyte.gz\n"
          ]
        },
        {
          "output_type": "stream",
          "name": "stderr",
          "text": [
            "100%|██████████| 29515/29515 [00:00<00:00, 139029.45it/s]\n"
          ]
        },
        {
          "output_type": "stream",
          "name": "stdout",
          "text": [
            "Extracting data/FashionMNIST/raw/train-labels-idx1-ubyte.gz to data/FashionMNIST/raw\n",
            "\n",
            "Downloading http://fashion-mnist.s3-website.eu-central-1.amazonaws.com/t10k-images-idx3-ubyte.gz\n",
            "Downloading http://fashion-mnist.s3-website.eu-central-1.amazonaws.com/t10k-images-idx3-ubyte.gz to data/FashionMNIST/raw/t10k-images-idx3-ubyte.gz\n"
          ]
        },
        {
          "output_type": "stream",
          "name": "stderr",
          "text": [
            "100%|██████████| 4422102/4422102 [00:01<00:00, 2606729.66it/s]\n"
          ]
        },
        {
          "output_type": "stream",
          "name": "stdout",
          "text": [
            "Extracting data/FashionMNIST/raw/t10k-images-idx3-ubyte.gz to data/FashionMNIST/raw\n",
            "\n",
            "Downloading http://fashion-mnist.s3-website.eu-central-1.amazonaws.com/t10k-labels-idx1-ubyte.gz\n",
            "Downloading http://fashion-mnist.s3-website.eu-central-1.amazonaws.com/t10k-labels-idx1-ubyte.gz to data/FashionMNIST/raw/t10k-labels-idx1-ubyte.gz\n"
          ]
        },
        {
          "output_type": "stream",
          "name": "stderr",
          "text": [
            "100%|██████████| 5148/5148 [00:00<00:00, 6589037.84it/s]"
          ]
        },
        {
          "output_type": "stream",
          "name": "stdout",
          "text": [
            "Extracting data/FashionMNIST/raw/t10k-labels-idx1-ubyte.gz to data/FashionMNIST/raw\n",
            "\n"
          ]
        },
        {
          "output_type": "stream",
          "name": "stderr",
          "text": [
            "\n"
          ]
        }
      ]
    },
    {
      "cell_type": "markdown",
      "source": [
        "We pass the Dataset as an argument to DataLoader. This wraps an iterable over our dataset, and suports automatic batching, sampling, shuffling and multiprocess data loading.\n",
        "\n",
        "In the next step I'm goin to define a bach size of 64.\n",
        "it meand that each element in the dataloader interable will return batch of 64 features and labels\n"
      ],
      "metadata": {
        "id": "1GZwvnY-HrD6"
      }
    },
    {
      "cell_type": "code",
      "source": [
        "batch_size = 64\n",
        "\n",
        "# Create a data loaders.\n",
        "train_dataloader = DataLoader(training_data, batch_size=batch_size)\n",
        "test_dataloader = DataLoader(test_data, batch_size=batch_size)\n",
        "\n",
        "for X, y in test_dataloader:\n",
        "  print(f\"Shape of X [N, C, H, W]: {X.shape}\")\n",
        "  print(f\"Shape of y: {y.shape} {y.dtype}\")\n",
        "  break"
      ],
      "metadata": {
        "colab": {
          "base_uri": "https://localhost:8080/"
        },
        "id": "CqxkshaBIdXM",
        "outputId": "fedec106-cf00-4b5f-f11c-46e883270fdc"
      },
      "execution_count": null,
      "outputs": [
        {
          "output_type": "stream",
          "name": "stdout",
          "text": [
            "Shape of X [N, C, H, W]: torch.Size([64, 1, 28, 28])\n",
            "Shape of y: torch.Size([64]) torch.int64\n"
          ]
        }
      ]
    },
    {
      "cell_type": "markdown",
      "source": [
        "### Creating Models\n",
        "We create a class that inheris from nn.Module.\n",
        "we will define the layers of the networn in the __init__ function\n",
        "and specify how data will pass through the network in the foward function"
      ],
      "metadata": {
        "id": "Udnufuj2K3aO"
      }
    },
    {
      "cell_type": "code",
      "source": [
        "# Get cpu, gpu or mps device for training\n",
        "\n",
        "device = (\"cuda\"\n",
        "if torch.cuda.is_available()\n",
        "else \"mps\"\n",
        "if torch.backends.mps.is_available()\n",
        "else \"cpu\")\n",
        "print(f\"Using {device} device\")\n",
        "\n",
        "# Define model\n",
        "class NeuralNetwork(nn.Module):\n",
        "    def __init__(self):\n",
        "        super().__init__()\n",
        "        self.flatten = nn.Flatten()\n",
        "        self.linear_relu_stack = nn.Sequential(\n",
        "            nn.Linear(28*28, 512),\n",
        "            nn.ReLU(),\n",
        "            nn.Linear(512,512),\n",
        "            nn.ReLU(),\n",
        "            nn.Linear(512, 10)\n",
        "  )\n",
        "\n",
        "    def forward(self, x):\n",
        "        x = self.flatten(x)\n",
        "        logits = self.linear_relu_stack(x)\n",
        "        return logits\n",
        "\n",
        "model = NeuralNetwork().to(device)\n",
        "print(model)"
      ],
      "metadata": {
        "colab": {
          "base_uri": "https://localhost:8080/"
        },
        "id": "tpBfY5pKK8f8",
        "outputId": "2a0df325-7ec3-4f85-be59-3799c9a0b40f"
      },
      "execution_count": null,
      "outputs": [
        {
          "output_type": "stream",
          "name": "stdout",
          "text": [
            "Using cuda device\n",
            "NeuralNetwork(\n",
            "  (flatten): Flatten(start_dim=1, end_dim=-1)\n",
            "  (linear_relu_stack): Sequential(\n",
            "    (0): Linear(in_features=784, out_features=512, bias=True)\n",
            "    (1): ReLU()\n",
            "    (2): Linear(in_features=512, out_features=512, bias=True)\n",
            "    (3): ReLU()\n",
            "    (4): Linear(in_features=512, out_features=10, bias=True)\n",
            "  )\n",
            ")\n"
          ]
        }
      ]
    },
    {
      "cell_type": "markdown",
      "source": [
        "### Optimizing the Model Parameters\n"
      ],
      "metadata": {
        "id": "KDkJQQG0Pk42"
      }
    },
    {
      "cell_type": "code",
      "source": [
        "# To train a model, we need a loss function and an optimizer.\n",
        "\n",
        "loss_fn = nn.CrossEntropyLoss()\n",
        "optimizer = torch.optim.SGD(model.parameters(), lr=1e-3)"
      ],
      "metadata": {
        "id": "EZZJgIJJPr-F"
      },
      "execution_count": null,
      "outputs": []
    },
    {
      "cell_type": "code",
      "source": [
        "'''\n",
        "in a single loop, the model makes predictions on the training dataset (fed to it in batches),\n",
        "and backpropagates the prediction error to adjust the model's parameters\n",
        "'''\n",
        "\n",
        "def train(dataloader, model, loss_fn, optimizer):\n",
        "    size = len(dataloader.dataset)\n",
        "    model.train()\n",
        "    for batch, (X, y) in enumerate(dataloader):\n",
        "        X, y = X.to(device), y.to(device)\n",
        "\n",
        "        # Compute prediction error\n",
        "        pred = model(X)\n",
        "        loss = loss_fn(pred, y)\n",
        "\n",
        "        # Backpropagation\n",
        "        loss.backward()\n",
        "        optimizer.step()\n",
        "        optimizer.zero_grad()\n",
        "\n",
        "        if batch % 100 == 0:\n",
        "            loss, current = loss.item(), (batch + 1) * len(X)\n",
        "            print(f\"loss: {loss:>7f} [{current:>5d}/{size:>5d}]\")"
      ],
      "metadata": {
        "id": "38E0rnvkQ6zs"
      },
      "execution_count": null,
      "outputs": []
    },
    {
      "cell_type": "code",
      "source": [
        "'''We also check the model's performance against the test dataset\n",
        "to ensure it is learning '''\n",
        "\n",
        "def test(dataloader, model, loss_fn):\n",
        "  size = len(dataloader.dataset)\n",
        "  num_batches = len(dataloader)\n",
        "  model.eval()\n",
        "  test_loss, correct = 0,0\n",
        "  with torch.no_grad():\n",
        "    for X, y in dataloader:\n",
        "      X, y = X.to(device), y.to(device)\n",
        "      pred = model(X)\n",
        "      test_loss += loss_fn(pred, y).item()\n",
        "      correct += (pred.argmax(1) == y).type(torch.float).sum().item()\n",
        "  test_loss /= num_batches\n",
        "  correct /= size\n",
        "  print(f\"Test Error: \\n Accuracy: {(100*correct):>0.1f}%, Avg loss: {test_loss:>8f} \\n\")"
      ],
      "metadata": {
        "id": "NAiL6WVbTmjN"
      },
      "execution_count": null,
      "outputs": []
    },
    {
      "cell_type": "markdown",
      "source": [
        "The training process is conducted over several iterations (epochs). During each epoch, the model learns parameters to make better predictions.\n",
        "We print the model's accuracy and loss at each epoch; we'd like to see the accutacy increase and the loss decrease with every epoch.\n"
      ],
      "metadata": {
        "id": "OKZvozglXIqj"
      }
    },
    {
      "cell_type": "code",
      "source": [
        "epochs = 5\n",
        "for t in range(epochs):\n",
        "  print(f\"Epoch {t+1}\\n-------------------\")\n",
        "  train(train_dataloader, model, loss_fn, optimizer)\n",
        "  test(test_dataloader, model, loss_fn)\n",
        "  print(\"Done!\")"
      ],
      "metadata": {
        "colab": {
          "base_uri": "https://localhost:8080/"
        },
        "id": "jFswcaosXp0U",
        "outputId": "d6b171ff-28b4-40b1-fddf-593ba6cadfc8"
      },
      "execution_count": null,
      "outputs": [
        {
          "output_type": "stream",
          "name": "stdout",
          "text": [
            "Epoch 1\n",
            "-------------------\n",
            "loss: 2.308742 [   64/60000]\n",
            "loss: 2.289044 [ 6464/60000]\n",
            "loss: 2.276515 [12864/60000]\n",
            "loss: 2.267895 [19264/60000]\n",
            "loss: 2.253698 [25664/60000]\n",
            "loss: 2.225273 [32064/60000]\n",
            "loss: 2.232852 [38464/60000]\n",
            "loss: 2.199456 [44864/60000]\n",
            "loss: 2.200396 [51264/60000]\n",
            "loss: 2.163410 [57664/60000]\n",
            "Test Error: \n",
            " Accuracy: 39.7%, Avg loss: 2.159931 \n",
            "\n",
            "Done!\n",
            "Epoch 2\n",
            "-------------------\n",
            "loss: 2.177898 [   64/60000]\n",
            "loss: 2.161890 [ 6464/60000]\n",
            "loss: 2.111350 [12864/60000]\n",
            "loss: 2.125921 [19264/60000]\n",
            "loss: 2.076976 [25664/60000]\n",
            "loss: 2.017503 [32064/60000]\n",
            "loss: 2.044367 [38464/60000]\n",
            "loss: 1.967549 [44864/60000]\n",
            "loss: 1.979645 [51264/60000]\n",
            "loss: 1.901089 [57664/60000]\n",
            "Test Error: \n",
            " Accuracy: 57.2%, Avg loss: 1.905220 \n",
            "\n",
            "Done!\n",
            "Epoch 3\n",
            "-------------------\n",
            "loss: 1.943844 [   64/60000]\n",
            "loss: 1.907855 [ 6464/60000]\n",
            "loss: 1.803952 [12864/60000]\n",
            "loss: 1.843039 [19264/60000]\n",
            "loss: 1.726494 [25664/60000]\n",
            "loss: 1.686010 [32064/60000]\n",
            "loss: 1.702222 [38464/60000]\n",
            "loss: 1.605964 [44864/60000]\n",
            "loss: 1.633593 [51264/60000]\n",
            "loss: 1.519772 [57664/60000]\n",
            "Test Error: \n",
            " Accuracy: 59.9%, Avg loss: 1.544017 \n",
            "\n",
            "Done!\n",
            "Epoch 4\n",
            "-------------------\n",
            "loss: 1.614837 [   64/60000]\n",
            "loss: 1.572856 [ 6464/60000]\n",
            "loss: 1.435502 [12864/60000]\n",
            "loss: 1.498534 [19264/60000]\n",
            "loss: 1.372723 [25664/60000]\n",
            "loss: 1.379004 [32064/60000]\n",
            "loss: 1.381581 [38464/60000]\n",
            "loss: 1.308856 [44864/60000]\n",
            "loss: 1.346968 [51264/60000]\n",
            "loss: 1.237898 [57664/60000]\n",
            "Test Error: \n",
            " Accuracy: 62.4%, Avg loss: 1.268732 \n",
            "\n",
            "Done!\n",
            "Epoch 5\n",
            "-------------------\n",
            "loss: 1.349168 [   64/60000]\n",
            "loss: 1.325992 [ 6464/60000]\n",
            "loss: 1.169826 [12864/60000]\n",
            "loss: 1.267292 [19264/60000]\n",
            "loss: 1.138354 [25664/60000]\n",
            "loss: 1.171867 [32064/60000]\n",
            "loss: 1.182132 [38464/60000]\n",
            "loss: 1.121074 [44864/60000]\n",
            "loss: 1.167060 [51264/60000]\n",
            "loss: 1.072578 [57664/60000]\n",
            "Test Error: \n",
            " Accuracy: 64.1%, Avg loss: 1.097728 \n",
            "\n",
            "Done!\n"
          ]
        }
      ]
    },
    {
      "cell_type": "markdown",
      "source": [
        "### Saving and Loading a model"
      ],
      "metadata": {
        "id": "Wm3DranPcGW_"
      }
    },
    {
      "cell_type": "code",
      "source": [
        "torch.save(model.state_dict(), \"model.pht\")\n",
        "print(\"Saved Pytorch Model State to model.pht\")"
      ],
      "metadata": {
        "colab": {
          "base_uri": "https://localhost:8080/"
        },
        "id": "hbiXMwnPcKUV",
        "outputId": "f6d6a9e3-2be0-4012-8444-2cd98102583f"
      },
      "execution_count": null,
      "outputs": [
        {
          "output_type": "stream",
          "name": "stdout",
          "text": [
            "Saved Pytorch Model State to model.pht\n"
          ]
        }
      ]
    },
    {
      "cell_type": "code",
      "source": [
        "model = NeuralNetwork().to(device)\n",
        "model.load_state_dict(torch.load(\"model.pht\"))"
      ],
      "metadata": {
        "colab": {
          "base_uri": "https://localhost:8080/"
        },
        "id": "PPPdOG2CcbmS",
        "outputId": "b5edfc84-42fb-4118-dc9b-292fa5b67658"
      },
      "execution_count": null,
      "outputs": [
        {
          "output_type": "execute_result",
          "data": {
            "text/plain": [
              "<All keys matched successfully>"
            ]
          },
          "metadata": {},
          "execution_count": 14
        }
      ]
    },
    {
      "cell_type": "markdown",
      "source": [
        "### This model can now be used to make predictions."
      ],
      "metadata": {
        "id": "rpmQAGKjck3E"
      }
    },
    {
      "cell_type": "code",
      "source": [
        "classes = [\n",
        "    \"T-shirt/top\",\n",
        "    \"Trouser\",\n",
        "    \"Pullover\",\n",
        "    \"Dress\",\n",
        "    \"Coat\",\n",
        "    \"Sandal\",\n",
        "    \"Shirt\",\n",
        "    \"Sneaker\",\n",
        "    \"Bag\",\n",
        "    \"Ankle boot\",\n",
        "]\n",
        "\n",
        "model.eval()\n",
        "x, y = test_data[0][0], test_data[0][1]\n",
        "with torch.no_grad():\n",
        "  x = x.to(device)\n",
        "  pred = model(x)\n",
        "  predicted, actual = classes[pred[0].argmax(0)], classes[y]\n",
        "  print(f'predicted: \"{predicted}\", Actual: \"{actual}\"')\n"
      ],
      "metadata": {
        "colab": {
          "base_uri": "https://localhost:8080/"
        },
        "id": "IPa44Ia5bBpi",
        "outputId": "1af0cbc1-5e0c-44f5-d887-14a138a6e34e"
      },
      "execution_count": null,
      "outputs": [
        {
          "output_type": "stream",
          "name": "stdout",
          "text": [
            "predicted: \"Ankle boot\", Actual: \"Ankle boot\"\n"
          ]
        }
      ]
    }
  ]
}